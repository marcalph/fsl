{
 "cells": [
  {
   "cell_type": "code",
   "execution_count": null,
   "metadata": {},
   "outputs": [],
   "source": [
    "import hvplot.pandas\n",
    "import matplotlib.pyplot as plt\n",
    "import pandas as pd\n",
    "import pathlib\n",
    "import PIL\n",
    "import random\n",
    "import matplotlib.pyplot as plt\n",
    "from torchvision.datasets import ImageFolder\n",
    "FEW_SHOT_DATA = pathlib.Path(\"../data/coco_crops_few_shot\")\n",
    "train = ImageFolder(FEW_SHOT_DATA/\"train\")\n",
    "test = ImageFolder(FEW_SHOT_DATA/\"test\")\n",
    "!pwd\n"
   ]
  },
  {
   "cell_type": "code",
   "execution_count": null,
   "id": "e59f2966",
   "metadata": {},
   "outputs": [],
   "source": [
    "get_sz = lambda x: PIL.Image.open(x[0]).size\n",
    "def plot_img_sz(ds):\n",
    "        dims = list(map(get_sz, ds.imgs))\n",
    "        dim_df = pd.DataFrame(dims, columns=['height', 'width'])\n",
    "        dim_df['height_bin'] =  pd.cut(dim_df.height, 20,  precision=0).map(lambda x: x.left)\n",
    "        dim_df['width_bin'] =  pd.cut(dim_df.width, 20,  precision=0).map(lambda x: x.left)\n",
    "        sizes = dim_df.groupby(['height_bin', 'width_bin']).size().reset_index().rename(columns={0:'count'})\n",
    "        return sizes.hvplot.scatter(x='width_bin', y='height_bin', size='count', xlim=(0,1200), ylim=(0,1200), grid=True, xticks=2, yticks=2, height=200).options(scaling_factor=0.1, line_alpha=1, fill_alpha=0)\n",
    "plot_img_sz(train)"
   ]
  },
  {
   "cell_type": "code",
   "execution_count": null,
   "id": "a20a7687",
   "metadata": {},
   "outputs": [],
   "source": [
    "plot_img_sz(test)"
   ]
  },
  {
   "cell_type": "code",
   "execution_count": null,
   "id": "aec10f63",
   "metadata": {},
   "outputs": [],
   "source": [
    "def plot_target_dist(ds):\n",
    "    kv = {v:k for k,v in ds.class_to_idx.items()}\n",
    "    targets = pd.Series(ds.targets, name='target').map(kv)\n",
    "    counts = targets.value_counts()\n",
    "    counts_df = pd.DataFrame({'label': counts.index.tolist(), 'pct_of_images': counts})\n",
    "    counts_df.reset_index(drop=True, inplace=True)\n",
    "    return counts_df.hvplot.bar(x='label', y='pct_of_images', invert=True, flip_yaxis=True, height=200)\n",
    "plot_target_dist(train)"
   ]
  },
  {
   "cell_type": "code",
   "execution_count": null,
   "id": "1f0a5ae3",
   "metadata": {},
   "outputs": [],
   "source": [
    "plot_target_dist(test)"
   ]
  },
  {
   "cell_type": "code",
   "execution_count": null,
   "id": "03cf43e1",
   "metadata": {},
   "outputs": [],
   "source": [
    "def show_samples(ds):\n",
    "    fig = plt.figure(figsize=(16, 16))\n",
    "    # display 10 images from each class\n",
    "    for cls_idx, cls in enumerate(ds.classes):\n",
    "        for i, img  in enumerate(random.sample(list(filter(lambda x: x[1]==cls_idx,ds.imgs)), k=8)):\n",
    "            ax = fig.add_subplot(8, 8, cls_idx * 8 + i + 1, xticks=[], yticks=[])\n",
    "            im = PIL.Image.open(img[0])\n",
    "            plt.imshow(im)\n",
    "            ax.set_title(f'Label: {cls}')\n",
    "show_samples(train)"
   ]
  },
  {
   "cell_type": "code",
   "execution_count": null,
   "id": "e4ba7537",
   "metadata": {},
   "outputs": [],
   "source": [
    "show_samples(test)"
   ]
  }
 ],
 "metadata": {
  "kernelspec": {
   "display_name": "Python 3.10.5 ('fsl')",
   "language": "python",
   "name": "python3"
  },
  "language_info": {
   "codemirror_mode": {
    "name": "ipython",
    "version": 3
   },
   "file_extension": ".py",
   "mimetype": "text/x-python",
   "name": "python",
   "nbconvert_exporter": "python",
   "pygments_lexer": "ipython3",
   "version": "3.10.5"
  },
  "vscode": {
   "interpreter": {
    "hash": "ff0f4c40d61ba4584b5f73e85565595f9b145c6a400019529fd23b1142ff752d"
   }
  }
 },
 "nbformat": 4,
 "nbformat_minor": 5
}
