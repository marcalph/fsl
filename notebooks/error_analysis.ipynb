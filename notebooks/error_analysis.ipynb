{
 "cells": [
  {
   "cell_type": "code",
   "execution_count": null,
   "metadata": {},
   "outputs": [],
   "source": [
    "import torch\n",
    "import matplotlib.pyplot as plt\n",
    "import pandas as pd\n",
    "import pathlib\n",
    "import pytorch_lightning as pl\n",
    "from torchvision import transforms\n",
    "import matplotlib.pyplot as plt\n",
    "from torchvision.datasets import ImageFolder\n",
    "from torch.utils.data import DataLoader\n",
    "FEW_SHOT_DATA = pathlib.Path(\"../data/coco_crops_few_shot\")\n",
    "test = ImageFolder(FEW_SHOT_DATA/\"test\")\n",
    "DATA_MEANS, DATA_STD = [0.48145466, 0.4578275, 0.40821073], [\n",
    "    0.26862954,\n",
    "    0.26130258,\n",
    "    0.27577711,\n",
    "] \n",
    "test_transform = transforms.Compose(\n",
    "            [\n",
    "                transforms.Resize((224, 224)),\n",
    "                transforms.ToTensor(),\n",
    "                transforms.Normalize(DATA_MEANS, DATA_STD),\n",
    "            ]\n",
    "        )\n",
    "test = ImageFolder(FEW_SHOT_DATA / \"test\", transform=test_transform)\n",
    "testdl =  DataLoader(test, batch_size=32, shuffle=False)\n"
   ]
  },
  {
   "cell_type": "code",
   "execution_count": null,
   "id": "0a6c5f3f",
   "metadata": {},
   "outputs": [],
   "source": [
    "import sys\n",
    "sys.path.append(\"../\")\n",
    "sys.path.append(\"../src/\")\n",
    "from src.ft_clip import ClipClassifier\n",
    "model = ClipClassifier.load_from_checkpoint(\"/Users/marcalph/Projects/fsl/models/Vit-B/32ml1.0epoch=33.ckpt\")\n",
    "trainer = pl.Trainer()\n",
    "trainer.test(model, dataloaders=testdl)"
   ]
  },
  {
   "cell_type": "code",
   "execution_count": null,
   "id": "89002cd3",
   "metadata": {},
   "outputs": [],
   "source": [
    "from sklearn.metrics import confusion_matrix\n",
    "import seaborn as sns\n",
    "import pandas as pd\n",
    "import numpy as np\n",
    "\n",
    "y_pred = []\n",
    "y_true = []\n",
    "for inputs, labels in testdl:\n",
    "        output = model(inputs)\n",
    "        output = (torch.max(torch.exp(output), 1)[1]).data\n",
    "        y_pred.extend(output) \n",
    "        labels = labels.data\n",
    "        y_true.extend(labels)\n",
    "\n",
    "\n",
    "# Build precision confusion matrix\n",
    "cf_matrix = confusion_matrix(y_true, y_pred).T\n",
    "df_cm = pd.DataFrame(cf_matrix/np.sum(cf_matrix,axis=1)[:, np.newaxis], index = [i for i in test.classes],\n",
    "                     columns = [i for i in test.classes])\n",
    "plt.figure(figsize = (12,7))\n",
    "sns.heatmap(df_cm, annot=True, cmap=\"Blues\")"
   ]
  }
 ],
 "metadata": {
  "kernelspec": {
   "display_name": "Python 3.10.5 ('fsl')",
   "language": "python",
   "name": "python3"
  },
  "language_info": {
   "codemirror_mode": {
    "name": "ipython",
    "version": 3
   },
   "file_extension": ".py",
   "mimetype": "text/x-python",
   "name": "python",
   "nbconvert_exporter": "python",
   "pygments_lexer": "ipython3",
   "version": "3.10.5"
  },
  "vscode": {
   "interpreter": {
    "hash": "ff0f4c40d61ba4584b5f73e85565595f9b145c6a400019529fd23b1142ff752d"
   }
  }
 },
 "nbformat": 4,
 "nbformat_minor": 5
}
